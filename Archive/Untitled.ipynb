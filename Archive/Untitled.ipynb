{
 "cells": [
  {
   "cell_type": "code",
   "execution_count": 3,
   "id": "df2bf42f",
   "metadata": {},
   "outputs": [],
   "source": [
    "from datetime import datetime\n",
    "import os, subprocess, json, requests, shutil, time"
   ]
  },
  {
   "cell_type": "code",
   "execution_count": 4,
   "id": "0c96e356",
   "metadata": {},
   "outputs": [],
   "source": [
    "def check_queue(queue_name):\n",
    "    rabbitmq_host = os.environ.get('rabbitmq_host','http://192.168.1.110')\n",
    "    rabbitmq_port = os.environ.get('rabbitmq_port','32311')\n",
    "    user = os.environ.get('user','celery')\n",
    "    password = os.environ.get('password','celery')\n",
    "    url = rabbitmq_host + ':' + str(rabbitmq_port) + '/api/queues/celery/' + queue_name\n",
    "    print ('Checking RabbitMQ queue depth for: ' + queue_name)\n",
    "    worker_queue = json.loads(requests.get(url, auth=(user,password)).text)\n",
    "    queue_depth = (worker_queue[\"messages_unacknowledged\"])\n",
    "    return queue_depth"
   ]
  },
  {
   "cell_type": "code",
   "execution_count": 5,
   "id": "5d8eb4e6",
   "metadata": {},
   "outputs": [],
   "source": [
    "def find_files(directory, extensions):\n",
    "    for root, dirs, files in os.walk(directory):\n",
    "        for file in files:\n",
    "            if any(file.endswith(ext) for ext in extensions):\n",
    "                file_path = os.path.join(root, file)\n",
    "                yield root, file, file_path\n",
    "\n"
   ]
  },
  {
   "cell_type": "code",
   "execution_count": 19,
   "id": "8334a0d7",
   "metadata": {},
   "outputs": [
    {
     "name": "stdout",
     "output_type": "stream",
     "text": [
      "Checking RabbitMQ queue depth for: worker\n",
      "Current Worker queue depth is: 0\n",
      "C:\\Users\\Chase\\Documents\\GitHub\\Boilest\\Scripts\\Configurations\\audio\\Anime_OPUS_Audio.json\n",
      "Not condsidering Anime_OPUS_Starter at this time\n",
      "C:\\Users\\Chase\\Documents\\GitHub\\Boilest\\Scripts\\Configurations\\audio\\Movies_OPUS_Audio.json\n",
      "Not condsidering Movies_OPUS_Starter at this time\n",
      "C:\\Users\\Chase\\Documents\\GitHub\\Boilest\\Scripts\\Configurations\\audio\\TV_OPUS_Audio .json\n",
      "Not condsidering TV_OPUS_Starter at this time\n",
      "C:\\Users\\Chase\\Documents\\GitHub\\Boilest\\Scripts\\Configurations\\container\\Anime_MKV_Container.json\n",
      "{\n",
      "   \"config_name\": \"Anime_MKV_Container_Check\",\n",
      "   \"enabled\": \"true\",\n",
      "   \"ffmpeg_codec_type\": \"container\",\n",
      "   \"ffmpeg_string\": \"-c copy\",\n",
      "   \"ffprobe_string\": \"ffprobe -loglevel quiet -show_entries format -of json\",\n",
      "   \"format_extension\": \".mkv\",\n",
      "   \"format_name\": \"matroska,webm\",\n",
      "   \"notes\": \"Convering all video containers to MKV\",\n",
      "   \"override\": \"true\",\n",
      "   \"watch_folder\": \"/anime\"\n",
      "}\n",
      "sending Anime_MKV_Container_Check to ffinder\n",
      "C:\\Users\\Chase\\Documents\\GitHub\\Boilest\\Scripts\\Configurations\\container\\Movies_MKV_Container.json\n",
      "{\n",
      "   \"config_name\": \"Movies_MKV_Container_Check\",\n",
      "   \"enabled\": \"true\",\n",
      "   \"ffmpeg_codec_type\": \"container\",\n",
      "   \"ffmpeg_string\": \"-c copy\",\n",
      "   \"ffprobe_string\": \"ffprobe -loglevel quiet -show_entries format -of json\",\n",
      "   \"format_extension\": \".mkv\",\n",
      "   \"format_name\": \"matroska,webm\",\n",
      "   \"notes\": \"Convering all video containers to MKV\",\n",
      "   \"override\": \"true\",\n",
      "   \"watch_folder\": \"/movies\"\n",
      "}\n",
      "sending Movies_MKV_Container_Check to ffinder\n",
      "C:\\Users\\Chase\\Documents\\GitHub\\Boilest\\Scripts\\Configurations\\container\\TV_MKV_Container .json\n",
      "{\n",
      "   \"config_name\": \"TV_MKV_Container_Check\",\n",
      "   \"enabled\": \"true\",\n",
      "   \"ffmpeg_codec_type\": \"container\",\n",
      "   \"ffmpeg_string\": \"-c copy\",\n",
      "   \"ffprobe_string\": \"ffprobe -loglevel quiet -show_entries format -of json\",\n",
      "   \"format_extension\": \".mkv\",\n",
      "   \"format_name\": \"matroska,webm\",\n",
      "   \"notes\": \"Convering all video containers to MKV\",\n",
      "   \"override\": \"true\",\n",
      "   \"watch_folder\": \"/tv\"\n",
      "}\n",
      "sending TV_MKV_Container_Check to ffinder\n",
      "C:\\Users\\Chase\\Documents\\GitHub\\Boilest\\Scripts\\Configurations\\subtitles\\Anime_SRT_Subtitles.json\n",
      "Not condsidering Anime_SRT_Starter at this time\n",
      "C:\\Users\\Chase\\Documents\\GitHub\\Boilest\\Scripts\\Configurations\\subtitles\\Movies_SRT_Subtitles.json\n",
      "Not condsidering Movies_SRT_Starter at this time\n",
      "C:\\Users\\Chase\\Documents\\GitHub\\Boilest\\Scripts\\Configurations\\subtitles\\TV_SRT_Subtitles .json\n",
      "Not condsidering TV_SRT_Starter at this time\n",
      "C:\\Users\\Chase\\Documents\\GitHub\\Boilest\\Scripts\\Configurations\\video\\Anime_AV1_Video.json\n",
      "{\n",
      "   \"config_name\": \"Anime_AV1_Starter\",\n",
      "   \"enabled\": \"true\",\n",
      "   \"ffmpeg_codec_name\": \"av1\",\n",
      "   \"ffmpeg_codec_type\": \"video\",\n",
      "   \"ffmpeg_string\": \"-c:v libsvtav1 -crf 20 -preset 4 -g 240 -pix_fmt yuv420p10le -svtav1-params filmgrain=20:film-grain-denoise=0:tune=0:enable-qm=1:qm-min=0:qm-max=15\",\n",
      "   \"ffprobe_string\": \"ffprobe -loglevel quiet -show_entries format:stream=index,stream,codec_type,codec_name,channel_layout -of json\",\n",
      "   \"format_extension\": \".mkv\",\n",
      "   \"format_name\": \"matroska,webm\",\n",
      "   \"notes\": \"Based on SVT Pinned Comment https://discord.gg/yvwztBnRaD\",\n",
      "   \"override\": \"false\",\n",
      "   \"watch_folder\": \"/anime\"\n",
      "}\n",
      "sending Anime_AV1_Starter to ffinder\n",
      "C:\\Users\\Chase\\Documents\\GitHub\\Boilest\\Scripts\\Configurations\\video\\Movies_AV1_Video.json\n",
      "{\n",
      "   \"config_name\": \"Movies_AV1_Starter\",\n",
      "   \"enabled\": \"true\",\n",
      "   \"ffmpeg_codec_name\": \"av1\",\n",
      "   \"ffmpeg_codec_type\": \"video\",\n",
      "   \"ffmpeg_string\": \"-c:v libsvtav1 -crf 20 -preset 4 -g 240 -pix_fmt yuv420p10le -svtav1-params filmgrain=20:film-grain-denoise=0:tune=0:enable-qm=1:qm-min=0:qm-max=15\",\n",
      "   \"ffprobe_string\": \"ffprobe -loglevel quiet -show_entries format:stream=index,stream,codec_type,codec_name,channel_layout -of json\",\n",
      "   \"format_extension\": \".mkv\",\n",
      "   \"format_name\": \"matroska,webm\",\n",
      "   \"notes\": \"Based on SVT Pinned Comment https://discord.gg/yvwztBnRaD\",\n",
      "   \"override\": \"false\",\n",
      "   \"watch_folder\": \"/movies\"\n",
      "}\n",
      "sending Movies_AV1_Starter to ffinder\n",
      "C:\\Users\\Chase\\Documents\\GitHub\\Boilest\\Scripts\\Configurations\\video\\TV_AV1_Video .json\n",
      "{\n",
      "   \"config_name\": \"TV_AV1_Starter\",\n",
      "   \"enabled\": \"true\",\n",
      "   \"ffmpeg_codec_name\": \"av1\",\n",
      "   \"ffmpeg_codec_type\": \"video\",\n",
      "   \"ffmpeg_string\": \"-c:v libsvtav1 -crf 20 -preset 4 -g 240 -pix_fmt yuv420p10le -svtav1-params filmgrain=20:film-grain-denoise=0:tune=0:enable-qm=1:qm-min=0:qm-max=15\",\n",
      "   \"ffprobe_string\": \"ffprobe -loglevel quiet -show_entries format:stream=index,stream,codec_type,codec_name,channel_layout -of json\",\n",
      "   \"format_extension\": \".mkv\",\n",
      "   \"format_name\": \"matroska,webm\",\n",
      "   \"notes\": \"Based on SVT Pinned Comment https://discord.gg/yvwztBnRaD\",\n",
      "   \"override\": \"false\",\n",
      "   \"watch_folder\": \"/tv\"\n",
      "}\n",
      "sending TV_AV1_Starter to ffinder\n"
     ]
    }
   ],
   "source": [
    "directory = 'C:\\\\Users\\\\Chase\\\\Documents\\\\GitHub\\\\Boilest\\\\Scripts\\\\Configurations'\n",
    "extensions = '.json'\n",
    "queue_depth = check_queue('worker')\n",
    "print ('Current Worker queue depth is: ' + str(queue_depth))\n",
    "\n",
    "if queue_depth == 0:\n",
    "       for root, file, file_path in find_files(directory,extensions):\n",
    "           print (file_path)\n",
    "           f = open(file_path)\n",
    "           json_configuration = json.load(f)\n",
    "           if json_configuration[\"enabled\"] == 'true':\n",
    "               print (json.dumps(json_configuration, indent=3, sort_keys=True))\n",
    "               print ('sending ' + json_configuration[\"config_name\"] + ' to ffinder')\n",
    "           elif json_configuration[\"enabled\"] == 'false':\n",
    "               print ('Not condsidering ' + json_configuration[\"config_name\"] + ' at this time') \n",
    "           else:\n",
    "                print ('Did not find Configurations')"
   ]
  },
  {
   "cell_type": "code",
   "execution_count": 20,
   "id": "d038fb9c",
   "metadata": {},
   "outputs": [],
   "source": [
    "def ffprobe(ffprobe_string,file_path):\n",
    "    subprocess_cmd = ffprobe_string + ' \"' + file_path + '\"'\n",
    "    p = subprocess.run(subprocess_cmd, capture_output=True, text=True).stdout\n",
    "    d = json.loads(p)\n",
    "    return d    "
   ]
  },
  {
   "cell_type": "code",
   "execution_count": 27,
   "id": "2a81655e",
   "metadata": {},
   "outputs": [
    {
     "name": "stdout",
     "output_type": "stream",
     "text": [
      "{\n",
      "  \"programs\": [],\n",
      "  \"streams\": [\n",
      "    {\n",
      "      \"index\": 0,\n",
      "      \"codec_name\": \"h264\",\n",
      "      \"codec_type\": \"video\"\n",
      "    },\n",
      "    {\n",
      "      \"index\": 1,\n",
      "      \"codec_name\": \"aac\",\n",
      "      \"codec_type\": \"audio\",\n",
      "      \"channel_layout\": \"stereo\"\n",
      "    }\n",
      "  ],\n",
      "  \"format\": {\n",
      "    \"filename\": \"C:\\\\Users\\\\Chase\\\\media\\\\Aqua Teen Hunger Force - S01E03 - Bus of the Undead.mp4\",\n",
      "    \"nb_streams\": 2,\n",
      "    \"nb_programs\": 0,\n",
      "    \"format_name\": \"mov,mp4,m4a,3gp,3g2,mj2\",\n",
      "    \"format_long_name\": \"QuickTime / MOV\",\n",
      "    \"start_time\": \"0.000000\",\n",
      "    \"duration\": \"680.279600\",\n",
      "    \"size\": \"17701382\",\n",
      "    \"bit_rate\": \"208165\",\n",
      "    \"probe_score\": 100,\n",
      "    \"tags\": {\n",
      "      \"major_brand\": \"mp42\",\n",
      "      \"minor_version\": \"512\",\n",
      "      \"compatible_brands\": \"isomiso2avc1mp41\",\n",
      "      \"creation_time\": \"2018-04-09T08:42:52.000000Z\",\n",
      "      \"title\": \"Aqua Teen Hunger Force S01E03 Bus of the Undead\",\n",
      "      \"encoder\": \"HandBrake 0.10.5 2016021100\"\n",
      "    }\n",
      "  }\n",
      "}\n"
     ]
    }
   ],
   "source": [
    "import subprocess\n",
    "import json\n",
    "\n",
    "ffprobe_command = 'ffprobe -loglevel quiet -show_entries format:stream=index,stream,codec_type,codec_name,channel_layout -of json'\n",
    "file_path = 'C:\\\\Users\\\\Chase\\\\media\\\\Aqua Teen Hunger Force - S01E03 - Bus of the Undead.mp4'\n",
    "\n",
    "def run_ffprobe(ffprobe_command):\n",
    "    try:\n",
    "        result = subprocess.run(ffprobe_command, capture_output=True, text=True, shell=True, check=True)\n",
    "        return json.loads(result.stdout)\n",
    "    except subprocess.CalledProcessError as e:\n",
    "        return {\"error\": f\"Error running ffprobe: {e}\"}\n",
    "\n",
    "# Example usage:\n",
    "video_file_path = 'C:\\\\Users\\\\Chase\\\\media\\\\Aqua Teen Hunger Force - S01E03 - Bus of the Undead.mp4'\n",
    "\n",
    "# Define the ffprobe command as a single string\n",
    "ffprobe_command = f'ffprobe -loglevel quiet -show_entries format:stream=index,stream,codec_type,codec_name,channel_layout -of json \"{video_file_path}\"'\n",
    "\n",
    "# Run the ffprobe command and get the result in JSON format\n",
    "result_json = run_ffprobe(ffprobe_command)\n",
    "\n",
    "print(json.dumps(result_json, indent=2))\n"
   ]
  },
  {
   "cell_type": "code",
   "execution_count": null,
   "id": "99ebe15d",
   "metadata": {},
   "outputs": [],
   "source": []
  },
  {
   "cell_type": "code",
   "execution_count": null,
   "id": "fdc6cf27",
   "metadata": {},
   "outputs": [],
   "source": []
  },
  {
   "cell_type": "code",
   "execution_count": null,
   "id": "6b03493f",
   "metadata": {},
   "outputs": [],
   "source": []
  },
  {
   "cell_type": "code",
   "execution_count": 31,
   "id": "43f70764",
   "metadata": {},
   "outputs": [
    {
     "name": "stdout",
     "output_type": "stream",
     "text": [
      "{\n",
      "  \"programs\": [],\n",
      "  \"streams\": [\n",
      "    {\n",
      "      \"index\": 0,\n",
      "      \"codec_name\": \"h264\",\n",
      "      \"codec_type\": \"video\"\n",
      "    },\n",
      "    {\n",
      "      \"index\": 1,\n",
      "      \"codec_name\": \"aac\",\n",
      "      \"codec_type\": \"audio\",\n",
      "      \"channel_layout\": \"stereo\"\n",
      "    }\n",
      "  ],\n",
      "  \"format\": {\n",
      "    \"filename\": \"C:\\\\Users\\\\Chase\\\\media\\\\Aqua Teen Hunger Force - S01E03 - Bus of the Undead.mp4\",\n",
      "    \"nb_streams\": 2,\n",
      "    \"nb_programs\": 0,\n",
      "    \"format_name\": \"mov,mp4,m4a,3gp,3g2,mj2\",\n",
      "    \"format_long_name\": \"QuickTime / MOV\",\n",
      "    \"start_time\": \"0.000000\",\n",
      "    \"duration\": \"680.279600\",\n",
      "    \"size\": \"17701382\",\n",
      "    \"bit_rate\": \"208165\",\n",
      "    \"probe_score\": 100,\n",
      "    \"tags\": {\n",
      "      \"major_brand\": \"mp42\",\n",
      "      \"minor_version\": \"512\",\n",
      "      \"compatible_brands\": \"isomiso2avc1mp41\",\n",
      "      \"creation_time\": \"2018-04-09T08:42:52.000000Z\",\n",
      "      \"title\": \"Aqua Teen Hunger Force S01E03 Bus of the Undead\",\n",
      "      \"encoder\": \"HandBrake 0.10.5 2016021100\"\n",
      "    }\n",
      "  }\n",
      "}\n"
     ]
    }
   ],
   "source": [
    "import subprocess\n",
    "import json\n",
    "\n",
    "ffprobe_command = 'ffprobe -loglevel quiet -show_entries format:stream=index,stream,codec_type,codec_name,channel_layout -of json'\n",
    "file_path = 'C:\\\\Users\\\\Chase\\\\media\\\\Aqua Teen Hunger Force - S01E03 - Bus of the Undead.mp4'\n",
    "\n",
    "def ffprober2(ffprobe_command,file_path):\n",
    "    try:\n",
    "        full_command = f'{ffprobe_command} \"{file_path}\"'\n",
    "        result = subprocess.run(full_command, capture_output=True, text=True, shell=True, check=True)\n",
    "        return json.loads(result.stdout)\n",
    "    except subprocess.CalledProcessError as e:\n",
    "        return {\"error\": f\"Error running ffprobe: {e}\"}\n",
    "\n",
    "result_json = ffprober2(ffprobe_command, file_path)\n",
    "print(json.dumps(result_json, indent=2))"
   ]
  },
  {
   "cell_type": "code",
   "execution_count": null,
   "id": "13551eca",
   "metadata": {},
   "outputs": [],
   "source": []
  },
  {
   "cell_type": "code",
   "execution_count": null,
   "id": "d4321fe4",
   "metadata": {},
   "outputs": [],
   "source": []
  },
  {
   "cell_type": "code",
   "execution_count": null,
   "id": "803854ed",
   "metadata": {},
   "outputs": [],
   "source": []
  },
  {
   "cell_type": "code",
   "execution_count": null,
   "id": "3589c6dd",
   "metadata": {},
   "outputs": [],
   "source": []
  },
  {
   "cell_type": "code",
   "execution_count": null,
   "id": "74951933",
   "metadata": {},
   "outputs": [],
   "source": []
  },
  {
   "cell_type": "code",
   "execution_count": null,
   "id": "aeb7ada9",
   "metadata": {},
   "outputs": [],
   "source": []
  },
  {
   "cell_type": "code",
   "execution_count": 320,
   "id": "aeb1fd96",
   "metadata": {},
   "outputs": [
    {
     "name": "stdout",
     "output_type": "stream",
     "text": [
      "Aqua Teen Hunger Force - S01E02 - Escape from Leprechaupolis.mp4 does not have a .mkv file extension\n",
      "output_filename is: Aqua Teen Hunger Force - S01E02 - Escape from Leprechaupolis.mkv\n",
      "file is: Aqua Teen Hunger Force - S01E02 - Escape from Leprechaupolis.mp4\n",
      "root is: C:\\Users\\Chase\\media\n",
      "file_path is: C:\\Users\\Chase\\media\\Aqua Teen Hunger Force - S01E02 - Escape from Leprechaupolis.mp4\n",
      "Aqua Teen Hunger Force - S01E03 - Bus of the Undead.mp4 does not have a .mkv file extension\n",
      "output_filename is: Aqua Teen Hunger Force - S01E03 - Bus of the Undead.mkv\n",
      "file is: Aqua Teen Hunger Force - S01E03 - Bus of the Undead.mp4\n",
      "root is: C:\\Users\\Chase\\media\n",
      "file_path is: C:\\Users\\Chase\\media\\Aqua Teen Hunger Force - S01E03 - Bus of the Undead.mp4\n",
      "Aqua Teen Hunger Force - S01E04 - Mayhem of the Mooninites.mp4 does not have a .mkv file extension\n",
      "output_filename is: Aqua Teen Hunger Force - S01E04 - Mayhem of the Mooninites.mkv\n",
      "file is: Aqua Teen Hunger Force - S01E04 - Mayhem of the Mooninites.mp4\n",
      "root is: C:\\Users\\Chase\\media\n",
      "file_path is: C:\\Users\\Chase\\media\\Aqua Teen Hunger Force - S01E04 - Mayhem of the Mooninites.mp4\n",
      "Aqua Teen Hunger Force - S01E05 - Balloonenstein.mp4 does not have a .mkv file extension\n",
      "output_filename is: Aqua Teen Hunger Force - S01E05 - Balloonenstein.mkv\n",
      "file is: Aqua Teen Hunger Force - S01E05 - Balloonenstein.mp4\n",
      "root is: C:\\Users\\Chase\\media\n",
      "file_path is: C:\\Users\\Chase\\media\\Aqua Teen Hunger Force - S01E05 - Balloonenstein.mp4\n",
      "Mushoku Tensei - Jobless Reincarnation - S01E08 - Turning Point 1.mkv has an .mkv file extension, no action to take.\n",
      "Sacrificial Princess and the King of Beasts - S01E01 - The Sacrifice and the Night of the Ritual.mkv has an .mkv file extension, no action to take.\n",
      "Seven Knights Revolution - Hero Successor - S01E01 - Awakening -Succession-.mkv has an .mkv file extension, no action to take.\n",
      "Seven Knights Revolution - Hero Successor - S01E02 - Chance Encounter -Granseed-.mkv has an .mkv file extension, no action to take.\n",
      "test - Copy.mkv has an .mkv file extension, no action to take.\n",
      "test - Copy.mp4 does not have a .mkv file extension\n",
      "output_filename is: test - Copy.mkv\n",
      "file is: test - Copy.mp4\n",
      "root is: C:\\Users\\Chase\\media\n",
      "file_path is: C:\\Users\\Chase\\media\\test - Copy.mp4\n",
      "test test - Copy.mp4 does not have a .mkv file extension\n",
      "output_filename is: test test - Copy.mkv\n",
      "file is: test test - Copy.mp4\n",
      "root is: C:\\Users\\Chase\\media\n",
      "file_path is: C:\\Users\\Chase\\media\\test test - Copy.mp4\n",
      "test test.mkv has an .mkv file extension, no action to take.\n",
      "test2asdasd.mkv has an .mkv file extension, no action to take.\n",
      "testtest.mkv has an .mkv file extension, no action to take.\n",
      "newtest.mkv has an .mkv file extension, no action to take.\n",
      "test.mkv has an .mkv file extension, no action to take.\n",
      "test2asd.mkv has an .mkv file extension, no action to take.\n",
      "test2asdasd.mkv has an .mkv file extension, no action to take.\n",
      "testout.mkv has an .mkv file extension, no action to take.\n",
      "testtest.mkv has an .mkv file extension, no action to take.\n",
      "Top Gear - S28E03 - Episode 3.mkv has an .mkv file extension, no action to take.\n",
      "Top Gear - S28E06 - Episode 6.mkv has an .mkv file extension, no action to take.\n",
      "Farming Life in Another World - S01E03 - More and More New Roommates.mkv has an .mkv file extension, no action to take.\n",
      "Insomniacs After School - S01E01 - Capella.mkv has an .mkv file extension, no action to take.\n",
      "Snow White with the Red Hair - S01E16 - The Name of That Step is Change.mkv has an .mkv file extension, no action to take.\n",
      "test.mkv has an .mkv file extension, no action to take.\n"
     ]
    }
   ],
   "source": [
    "configuration_json = {\n",
    "  \"config_name\": \"Anime_MKV_Starter\",\n",
    "  \"watch_folder\": \"C:\\\\Users\\\\Chase\\\\media\",\n",
    "  \"format_name\": \"matroska,webm\",\n",
    "  \"ffmpeg_string\": \".mkv\",\n",
    "  \"ffmpeg_codec_type\": \"container\",\n",
    "  \"ffprobe_string\":\"ffprobe -loglevel quiet -show_entries format -of json\",\n",
    "  \"notes\":\"\",\n",
    "  \"override\":\"true\",\n",
    "  \"enabled\":\"true\"\n",
    "}\n",
    "\n",
    "\n",
    "\n",
    "extensions = [\".mp4\", \".mkv\", \".avi\"]\n",
    "for root, file, file_path in find_files(configuration_json[\"watch_folder\"], extensions):\n",
    "    if file.endswith(configuration_json[\"ffmpeg_string\"]):\n",
    "        print(file + ' has an ' + configuration_json[\"ffmpeg_string\"] + ' file extension, no action to take.')\n",
    "    else:\n",
    "        print(file + ' does not have a ' + configuration_json[\"ffmpeg_string\"] + ' file extension')\n",
    "        output_filename = os.path.splitext(file)[0] + configuration_json[\"ffmpeg_string\"]\n",
    "        print ('output_filename is: ' + output_filename)\n",
    "        print ('file is: ' + file)\n",
    "        print ('root is: ' + root)\n",
    "        print ('file_path is: ' + file_path)\n",
    "\n",
    "        \n",
    "        \n",
    "        \n",
    "        \n",
    "        \n",
    "     "
   ]
  },
  {
   "cell_type": "code",
   "execution_count": 274,
   "id": "ee30f416",
   "metadata": {},
   "outputs": [],
   "source": [
    "def file_size_mb(file_path):\n",
    "    # Used a bit in tasks_worker\n",
    "    file_size = round(os.stat(file_path).st_size / (1024 * 1024))\n",
    "    return file_size"
   ]
  },
  {
   "cell_type": "code",
   "execution_count": 292,
   "id": "920bd3d4",
   "metadata": {},
   "outputs": [
    {
     "name": "stdout",
     "output_type": "stream",
     "text": [
      "ffmpeg -hide_banner -loglevel 16 -stats -stats_period 10 -i \"C:\\Users\\Chase\\media\\test test.mp4\" -c copy \"C:\\Users\\Chase\\media\\temp\\test test.mkv\"\n",
      "Please hold\n",
      "frame=    0 fps=0.0 q=-1.0 size=       0kB time=-00:00:00.06 bitrate=  -0.0kbits/s speed=N/A    \n",
      "\n",
      "frame=20796 fps=0.0 q=-1.0 Lsize=   21090kB time=00:11:33.84 bitrate= 249.0kbits/s speed=2.03e+03x    \n",
      "\n",
      "old test test.mp4 was: 21\n",
      "new test test.mkv is: 21\n",
      "Spave saved was: 0\n",
      "Moving C:\\Users\\Chase\\media\\temp\\test test.mkv to C:\\Users\\Chase\\media\\test test.mkv\n"
     ]
    }
   ],
   "source": [
    "ffmpeg_settings = os.environ.get('ffmpeg_settings','-hide_banner -loglevel 16 -stats -stats_period 10')\n",
    "file_path = 'C:\\\\Users\\\\Chase\\\\media\\\\test test.mp4'\n",
    "root = 'C:\\\\Users\\\\Chase\\\\media'\n",
    "file = 'test test.mp4'\n",
    "output_file = 'test test.mkv'\n",
    "temp_filepath = 'C:\\\\Users\\\\Chase\\\\media\\\\temp\\\\' +  output_file\n",
    "destination_filepath = root + '\\\\' + output_file\n",
    "ffmpeg_command = '-c copy'\n",
    "\n",
    "\n",
    "ffmpeg_command = 'ffmpeg ' + ffmpeg_settings + ' -i \"' + file_path + '\" ' + ffmpeg_command + ' \"' + temp_filepath + '\"'\n",
    "print (ffmpeg_command)\n",
    "\n",
    "print ('Please hold')\n",
    "process = subprocess.Popen(ffmpeg_command, shell=True, stdout=subprocess.PIPE, stderr=subprocess.STDOUT,universal_newlines=True)\n",
    "for line in process.stdout:\n",
    "    print(line)\n",
    "\n",
    "if os.path.exists(file_path and temp_filepath):\n",
    "    file_path_stats = file_size_mb(file_path)\n",
    "    print ('old ' + file + ' was: '+ str(file_path_stats))\n",
    "    temp_filepath_stats = file_size_mb(file_path)\n",
    "    print ('new ' + output_file + ' is: '+ str(temp_filepath_stats))\n",
    "    encoded_stats_difference = file_path_stats - temp_filepath_stats\n",
    "    print ('Spave saved was: '+ str(encoded_stats_difference))\n",
    "    \n",
    "    if temp_filepath_stats != 0.0:\n",
    "        destination_filepath = root + '\\\\' + output_file\n",
    "        print('Moving ' + temp_filepath + ' to ' + destination_filepath)\n",
    "        os.remove(file_path)\n",
    "        shutil.move(temp_filepath, destination_filepath) \n",
    "\n",
    "else:\n",
    "    print ('Something went wrong, a file is missing')\n",
    "    \n",
    "\n",
    "\n",
    "    \n",
    "    \n",
    "\n"
   ]
  },
  {
   "cell_type": "code",
   "execution_count": null,
   "id": "20bdd949",
   "metadata": {},
   "outputs": [],
   "source": []
  },
  {
   "cell_type": "code",
   "execution_count": null,
   "id": "7487fc82",
   "metadata": {},
   "outputs": [],
   "source": []
  },
  {
   "cell_type": "code",
   "execution_count": 308,
   "id": "7bf06365",
   "metadata": {},
   "outputs": [
    {
     "name": "stdout",
     "output_type": "stream",
     "text": [
      "Checking RabbitMQ queue depth for: worker\n",
      "0\n"
     ]
    }
   ],
   "source": [
    "def check_queue(queue_name):\n",
    "    rabbitmq_host = os.environ.get('rabbitmq_host','http://192.168.1.110')\n",
    "    rabbitmq_port = os.environ.get('rabbitmq_port','32311')\n",
    "    user = os.environ.get('user','celery')\n",
    "    password = os.environ.get('password','celery')\n",
    "    url = rabbitmq_host + ':' + str(rabbitmq_port) + '/api/queues/celery/' + queue_name\n",
    "    print ('Checking RabbitMQ queue depth for: ' + queue_name)\n",
    "    worker_queue = json.loads(requests.get(url, auth=(user,password)).text)\n",
    "    queue_depth = (worker_queue[\"messages_unacknowledged\"])\n",
    "    return queue_depth\n",
    "depth=check_queue('worker')\n",
    "print(depth)"
   ]
  },
  {
   "cell_type": "code",
   "execution_count": null,
   "id": "f62b0eff",
   "metadata": {},
   "outputs": [],
   "source": []
  },
  {
   "cell_type": "code",
   "execution_count": null,
   "id": "44b453f4",
   "metadata": {},
   "outputs": [],
   "source": []
  },
  {
   "cell_type": "code",
   "execution_count": 307,
   "id": "abea6355",
   "metadata": {},
   "outputs": [
    {
     "name": "stdout",
     "output_type": "stream",
     "text": [
      "{'key2': 'value2'}\n"
     ]
    }
   ],
   "source": [
    "my_dict = {'key1': 'value1', 'key2': 'value2'}\n",
    "\n",
    "# Removing an item\n",
    "del my_dict['key1']\n",
    "\n",
    "print (my_dict)"
   ]
  },
  {
   "cell_type": "code",
   "execution_count": 1,
   "id": "027e933c",
   "metadata": {},
   "outputs": [
    {
     "name": "stdout",
     "output_type": "stream",
     "text": [
      "['.mp4', '.avi']\n"
     ]
    }
   ],
   "source": [
    "\n",
    "extensions = [\".mp4\", \".mkv\", \".avi\"]\n",
    "extensions.remove('.mkv')\n",
    "print (extensions)\n",
    "\n",
    "\n"
   ]
  },
  {
   "cell_type": "code",
   "execution_count": 3,
   "id": "0c116e26",
   "metadata": {},
   "outputs": [
    {
     "name": "stdout",
     "output_type": "stream",
     "text": [
      "['.mp4', '.avi']\n"
     ]
    }
   ],
   "source": [
    "json_configuration = ({'ffmpeg_codec_type':'container','format_extension':'.mkv'})\n",
    "\n",
    "\n",
    "if json_configuration[\"ffmpeg_codec_type\"] == 'container':\n",
    "    extensions = [\".mp4\", \".mkv\", \".avi\"]\n",
    "    extensions.remove(json_configuration['format_extension'])\n",
    "else:\n",
    "    extensions = json_configuration[\"format_extension\"]\n",
    "\n",
    "print (extensions)"
   ]
  },
  {
   "cell_type": "code",
   "execution_count": 6,
   "id": "687f59c7",
   "metadata": {},
   "outputs": [
    {
     "name": "stdout",
     "output_type": "stream",
     "text": [
      "Setting up: file.avi as file.mkv\n"
     ]
    }
   ],
   "source": [
    "import os\n",
    "json_configuration = ({'file':'file.avi','format_extension':'.mkv'})\n",
    "\n",
    "output_filename = os.path.splitext(json_configuration[\"file\"])[0] + json_configuration[\"format_extension\"]\n",
    "\n",
    "print('Setting up: ' + json_configuration[\"file\"] + ' as ' + output_filename)"
   ]
  },
  {
   "cell_type": "code",
   "execution_count": null,
   "id": "d351ca9c",
   "metadata": {},
   "outputs": [],
   "source": []
  },
  {
   "cell_type": "code",
   "execution_count": 1,
   "id": "db92b638",
   "metadata": {},
   "outputs": [
    {
     "name": "stdout",
     "output_type": "stream",
     "text": [
      "hi\n"
     ]
    }
   ],
   "source": [
    "file_located = {'file':'file.mp4'}\n",
    "if file_located['file'].split('.')[-1] != '.mkv':\n",
    "    print ('hi')"
   ]
  },
  {
   "cell_type": "code",
   "execution_count": 2,
   "id": "4bbc3410",
   "metadata": {},
   "outputs": [
    {
     "name": "stdout",
     "output_type": "stream",
     "text": [
      "File Name: your_file.txt\n"
     ]
    }
   ],
   "source": [
    "import os\n",
    "\n",
    "def get_file_name_from_path(file_path):\n",
    "    return os.path.basename(file_path)\n",
    "\n",
    "# Example usage:\n",
    "file_path = \"/path/to/your/directory/your_file.txt\"\n",
    "file_name = get_file_name_from_path(file_path)\n",
    "print(\"File Name:\", file_name)"
   ]
  },
  {
   "cell_type": "code",
   "execution_count": null,
   "id": "6ebb7742",
   "metadata": {},
   "outputs": [],
   "source": []
  },
  {
   "cell_type": "code",
   "execution_count": null,
   "id": "d101853e",
   "metadata": {},
   "outputs": [],
   "source": []
  },
  {
   "cell_type": "code",
   "execution_count": 1,
   "id": "b7fc29a9",
   "metadata": {},
   "outputs": [
    {
     "name": "stdout",
     "output_type": "stream",
     "text": [
      "This is a string with the dictionary: {\"key1\": \"value1\", \"key2\": \"value2\", \"key3\": \"value3\"}\n"
     ]
    }
   ],
   "source": [
    "import json\n",
    "\n",
    "my_dict = {'key1': 'value1', 'key2': 'value2', 'key3': 'value3'}\n",
    "my_string = \"This is a string with the dictionary: \" + json.dumps(my_dict)\n",
    "\n",
    "print(my_string)"
   ]
  },
  {
   "cell_type": "code",
   "execution_count": null,
   "id": "d383da94",
   "metadata": {},
   "outputs": [],
   "source": []
  },
  {
   "cell_type": "code",
   "execution_count": 5,
   "id": "6efa25f5",
   "metadata": {},
   "outputs": [
    {
     "name": "stdout",
     "output_type": "stream",
     "text": [
      "{\n",
      "   \"directory\": \"directory\",\n",
      "   \"extension\": \"extension\",\n",
      "   \"file\": \"file\",\n",
      "   \"file_path\": \"file_path\",\n",
      "   \"root\": \"root222\"\n",
      "}\n",
      "root222\n"
     ]
    }
   ],
   "source": [
    "import json\n",
    "\n",
    "def get_json():\n",
    "    result_dict = {\n",
    "        'directory': 'directory',\n",
    "        'root': 'root222',\n",
    "        'file': 'file',\n",
    "        'file_path': 'file_path',\n",
    "        'extension': 'extension'\n",
    "    }\n",
    "    return json.dumps(result_dict)\n",
    "\n",
    "stuff = get_json()\n",
    "stuff = json.loads(stuff)\n",
    "print(json.dumps(stuff, indent=3, sort_keys=True))\n",
    "\n",
    "print (stuff['root'])"
   ]
  },
  {
   "cell_type": "code",
   "execution_count": 6,
   "id": "d4df193c",
   "metadata": {},
   "outputs": [
    {
     "name": "stdout",
     "output_type": "stream",
     "text": [
      "Requirement already satisfied: Flask in c:\\users\\chase\\anaconda3\\lib\\site-packages (1.1.2)\n",
      "Requirement already satisfied: Werkzeug>=0.15 in c:\\users\\chase\\anaconda3\\lib\\site-packages (from Flask) (2.0.3)\n",
      "Requirement already satisfied: Jinja2>=2.10.1 in c:\\users\\chase\\anaconda3\\lib\\site-packages (from Flask) (2.11.3)\n",
      "Requirement already satisfied: click>=5.1 in c:\\users\\chase\\anaconda3\\lib\\site-packages (from Flask) (8.1.5)\n",
      "Requirement already satisfied: itsdangerous>=0.24 in c:\\users\\chase\\anaconda3\\lib\\site-packages (from Flask) (2.0.1)\n",
      "Requirement already satisfied: colorama in c:\\users\\chase\\anaconda3\\lib\\site-packages (from click>=5.1->Flask) (0.4.4)\n",
      "Requirement already satisfied: MarkupSafe>=0.23 in c:\\users\\chase\\anaconda3\\lib\\site-packages (from Jinja2>=2.10.1->Flask) (2.0.1)\n"
     ]
    }
   ],
   "source": [
    "!pip install Flask"
   ]
  },
  {
   "cell_type": "code",
   "execution_count": 10,
   "id": "11d98a80",
   "metadata": {},
   "outputs": [
    {
     "name": "stdout",
     "output_type": "stream",
     "text": [
      " * Serving Flask app \"__main__\" (lazy loading)\n",
      " * Environment: production\n",
      "\u001b[31m   WARNING: This is a development server. Do not use it in a production deployment.\u001b[0m\n",
      "\u001b[2m   Use a production WSGI server instead.\u001b[0m\n",
      " * Debug mode: on\n"
     ]
    },
    {
     "name": "stderr",
     "output_type": "stream",
     "text": [
      " * Restarting with watchdog (windowsapi)\n"
     ]
    },
    {
     "ename": "SystemExit",
     "evalue": "1",
     "output_type": "error",
     "traceback": [
      "An exception has occurred, use %tb to see the full traceback.\n",
      "\u001b[1;31mSystemExit\u001b[0m\u001b[1;31m:\u001b[0m 1\n"
     ]
    }
   ],
   "source": [
    "from flask import Flask\n",
    "\n",
    "app = Flask(__name__)\n",
    "\n",
    "@app.route('/')\n",
    "def hello_world():\n",
    "    return 'Hello, World!'\n",
    "\n",
    "if __name__ == '__main__':\n",
    "    # In a notebook, you can run the Flask app using the following command:\n",
    "    app.run(debug=True, port=5000)"
   ]
  },
  {
   "cell_type": "code",
   "execution_count": null,
   "id": "b9453031",
   "metadata": {},
   "outputs": [],
   "source": []
  }
 ],
 "metadata": {
  "kernelspec": {
   "display_name": "Python 3 (ipykernel)",
   "language": "python",
   "name": "python3"
  },
  "language_info": {
   "codemirror_mode": {
    "name": "ipython",
    "version": 3
   },
   "file_extension": ".py",
   "mimetype": "text/x-python",
   "name": "python",
   "nbconvert_exporter": "python",
   "pygments_lexer": "ipython3",
   "version": "3.9.12"
  }
 },
 "nbformat": 4,
 "nbformat_minor": 5
}
